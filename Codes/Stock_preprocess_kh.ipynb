{
  "nbformat": 4,
  "nbformat_minor": 0,
  "metadata": {
    "colab": {
      "name": "Stock_preprocess_kh.ipynb",
      "provenance": [],
      "collapsed_sections": [],
      "mount_file_id": "1Tsg0N8NGN9jta7LmLiSs5qdsJQXV69op",
      "authorship_tag": "ABX9TyMJDG85M7lvGHB1rJ0yGeRG",
      "include_colab_link": true
    },
    "kernelspec": {
      "name": "python3",
      "display_name": "Python 3"
    },
    "language_info": {
      "name": "python"
    },
    "widgets": {
      "application/vnd.jupyter.widget-state+json": {
        "d4509e9fd77248eaa157001a7fb907ae": {
          "model_module": "@jupyter-widgets/controls",
          "model_name": "HBoxModel",
          "model_module_version": "1.5.0",
          "state": {
            "_dom_classes": [],
            "_model_module": "@jupyter-widgets/controls",
            "_model_module_version": "1.5.0",
            "_model_name": "HBoxModel",
            "_view_count": null,
            "_view_module": "@jupyter-widgets/controls",
            "_view_module_version": "1.5.0",
            "_view_name": "HBoxView",
            "box_style": "",
            "children": [
              "IPY_MODEL_f056bf7b42254217ab3e0120fbb738e8",
              "IPY_MODEL_a4dd5119baf74d1585ac481069ad6fd1",
              "IPY_MODEL_b64a208ca77d46758411233df09b9344"
            ],
            "layout": "IPY_MODEL_36aab84b03814995b81e461f0610fa51"
          }
        },
        "f056bf7b42254217ab3e0120fbb738e8": {
          "model_module": "@jupyter-widgets/controls",
          "model_name": "HTMLModel",
          "model_module_version": "1.5.0",
          "state": {
            "_dom_classes": [],
            "_model_module": "@jupyter-widgets/controls",
            "_model_module_version": "1.5.0",
            "_model_name": "HTMLModel",
            "_view_count": null,
            "_view_module": "@jupyter-widgets/controls",
            "_view_module_version": "1.5.0",
            "_view_name": "HTMLView",
            "description": "",
            "description_tooltip": null,
            "layout": "IPY_MODEL_17baf726c3a642c7a6d8bd3d7af9a49a",
            "placeholder": "​",
            "style": "IPY_MODEL_2b31a1761a6d4440a5e26b8a5327c005",
            "value": "Loading…: 100%"
          }
        },
        "a4dd5119baf74d1585ac481069ad6fd1": {
          "model_module": "@jupyter-widgets/controls",
          "model_name": "FloatProgressModel",
          "model_module_version": "1.5.0",
          "state": {
            "_dom_classes": [],
            "_model_module": "@jupyter-widgets/controls",
            "_model_module_version": "1.5.0",
            "_model_name": "FloatProgressModel",
            "_view_count": null,
            "_view_module": "@jupyter-widgets/controls",
            "_view_module_version": "1.5.0",
            "_view_name": "ProgressView",
            "bar_style": "success",
            "description": "",
            "description_tooltip": null,
            "layout": "IPY_MODEL_97a9b906d5974a15bc3e3402f31de961",
            "max": 18,
            "min": 0,
            "orientation": "horizontal",
            "style": "IPY_MODEL_0eb928b28ad8461b94bc74c50bdbfd87",
            "value": 18
          }
        },
        "b64a208ca77d46758411233df09b9344": {
          "model_module": "@jupyter-widgets/controls",
          "model_name": "HTMLModel",
          "model_module_version": "1.5.0",
          "state": {
            "_dom_classes": [],
            "_model_module": "@jupyter-widgets/controls",
            "_model_module_version": "1.5.0",
            "_model_name": "HTMLModel",
            "_view_count": null,
            "_view_module": "@jupyter-widgets/controls",
            "_view_module_version": "1.5.0",
            "_view_name": "HTMLView",
            "description": "",
            "description_tooltip": null,
            "layout": "IPY_MODEL_55c8155b2f9a4675afb7659880f902dc",
            "placeholder": "​",
            "style": "IPY_MODEL_5b2b76603efd4389a24dc6f9e18d6c92",
            "value": " 18/18 [33:14&lt;00:00, 206.21s/it]"
          }
        },
        "36aab84b03814995b81e461f0610fa51": {
          "model_module": "@jupyter-widgets/base",
          "model_name": "LayoutModel",
          "model_module_version": "1.2.0",
          "state": {
            "_model_module": "@jupyter-widgets/base",
            "_model_module_version": "1.2.0",
            "_model_name": "LayoutModel",
            "_view_count": null,
            "_view_module": "@jupyter-widgets/base",
            "_view_module_version": "1.2.0",
            "_view_name": "LayoutView",
            "align_content": null,
            "align_items": null,
            "align_self": null,
            "border": null,
            "bottom": null,
            "display": null,
            "flex": null,
            "flex_flow": null,
            "grid_area": null,
            "grid_auto_columns": null,
            "grid_auto_flow": null,
            "grid_auto_rows": null,
            "grid_column": null,
            "grid_gap": null,
            "grid_row": null,
            "grid_template_areas": null,
            "grid_template_columns": null,
            "grid_template_rows": null,
            "height": null,
            "justify_content": null,
            "justify_items": null,
            "left": null,
            "margin": null,
            "max_height": null,
            "max_width": null,
            "min_height": null,
            "min_width": null,
            "object_fit": null,
            "object_position": null,
            "order": null,
            "overflow": null,
            "overflow_x": null,
            "overflow_y": null,
            "padding": null,
            "right": null,
            "top": null,
            "visibility": null,
            "width": null
          }
        },
        "17baf726c3a642c7a6d8bd3d7af9a49a": {
          "model_module": "@jupyter-widgets/base",
          "model_name": "LayoutModel",
          "model_module_version": "1.2.0",
          "state": {
            "_model_module": "@jupyter-widgets/base",
            "_model_module_version": "1.2.0",
            "_model_name": "LayoutModel",
            "_view_count": null,
            "_view_module": "@jupyter-widgets/base",
            "_view_module_version": "1.2.0",
            "_view_name": "LayoutView",
            "align_content": null,
            "align_items": null,
            "align_self": null,
            "border": null,
            "bottom": null,
            "display": null,
            "flex": null,
            "flex_flow": null,
            "grid_area": null,
            "grid_auto_columns": null,
            "grid_auto_flow": null,
            "grid_auto_rows": null,
            "grid_column": null,
            "grid_gap": null,
            "grid_row": null,
            "grid_template_areas": null,
            "grid_template_columns": null,
            "grid_template_rows": null,
            "height": null,
            "justify_content": null,
            "justify_items": null,
            "left": null,
            "margin": null,
            "max_height": null,
            "max_width": null,
            "min_height": null,
            "min_width": null,
            "object_fit": null,
            "object_position": null,
            "order": null,
            "overflow": null,
            "overflow_x": null,
            "overflow_y": null,
            "padding": null,
            "right": null,
            "top": null,
            "visibility": null,
            "width": null
          }
        },
        "2b31a1761a6d4440a5e26b8a5327c005": {
          "model_module": "@jupyter-widgets/controls",
          "model_name": "DescriptionStyleModel",
          "model_module_version": "1.5.0",
          "state": {
            "_model_module": "@jupyter-widgets/controls",
            "_model_module_version": "1.5.0",
            "_model_name": "DescriptionStyleModel",
            "_view_count": null,
            "_view_module": "@jupyter-widgets/base",
            "_view_module_version": "1.2.0",
            "_view_name": "StyleView",
            "description_width": ""
          }
        },
        "97a9b906d5974a15bc3e3402f31de961": {
          "model_module": "@jupyter-widgets/base",
          "model_name": "LayoutModel",
          "model_module_version": "1.2.0",
          "state": {
            "_model_module": "@jupyter-widgets/base",
            "_model_module_version": "1.2.0",
            "_model_name": "LayoutModel",
            "_view_count": null,
            "_view_module": "@jupyter-widgets/base",
            "_view_module_version": "1.2.0",
            "_view_name": "LayoutView",
            "align_content": null,
            "align_items": null,
            "align_self": null,
            "border": null,
            "bottom": null,
            "display": null,
            "flex": null,
            "flex_flow": null,
            "grid_area": null,
            "grid_auto_columns": null,
            "grid_auto_flow": null,
            "grid_auto_rows": null,
            "grid_column": null,
            "grid_gap": null,
            "grid_row": null,
            "grid_template_areas": null,
            "grid_template_columns": null,
            "grid_template_rows": null,
            "height": null,
            "justify_content": null,
            "justify_items": null,
            "left": null,
            "margin": null,
            "max_height": null,
            "max_width": null,
            "min_height": null,
            "min_width": null,
            "object_fit": null,
            "object_position": null,
            "order": null,
            "overflow": null,
            "overflow_x": null,
            "overflow_y": null,
            "padding": null,
            "right": null,
            "top": null,
            "visibility": null,
            "width": null
          }
        },
        "0eb928b28ad8461b94bc74c50bdbfd87": {
          "model_module": "@jupyter-widgets/controls",
          "model_name": "ProgressStyleModel",
          "model_module_version": "1.5.0",
          "state": {
            "_model_module": "@jupyter-widgets/controls",
            "_model_module_version": "1.5.0",
            "_model_name": "ProgressStyleModel",
            "_view_count": null,
            "_view_module": "@jupyter-widgets/base",
            "_view_module_version": "1.2.0",
            "_view_name": "StyleView",
            "bar_color": null,
            "description_width": ""
          }
        },
        "55c8155b2f9a4675afb7659880f902dc": {
          "model_module": "@jupyter-widgets/base",
          "model_name": "LayoutModel",
          "model_module_version": "1.2.0",
          "state": {
            "_model_module": "@jupyter-widgets/base",
            "_model_module_version": "1.2.0",
            "_model_name": "LayoutModel",
            "_view_count": null,
            "_view_module": "@jupyter-widgets/base",
            "_view_module_version": "1.2.0",
            "_view_name": "LayoutView",
            "align_content": null,
            "align_items": null,
            "align_self": null,
            "border": null,
            "bottom": null,
            "display": null,
            "flex": null,
            "flex_flow": null,
            "grid_area": null,
            "grid_auto_columns": null,
            "grid_auto_flow": null,
            "grid_auto_rows": null,
            "grid_column": null,
            "grid_gap": null,
            "grid_row": null,
            "grid_template_areas": null,
            "grid_template_columns": null,
            "grid_template_rows": null,
            "height": null,
            "justify_content": null,
            "justify_items": null,
            "left": null,
            "margin": null,
            "max_height": null,
            "max_width": null,
            "min_height": null,
            "min_width": null,
            "object_fit": null,
            "object_position": null,
            "order": null,
            "overflow": null,
            "overflow_x": null,
            "overflow_y": null,
            "padding": null,
            "right": null,
            "top": null,
            "visibility": null,
            "width": null
          }
        },
        "5b2b76603efd4389a24dc6f9e18d6c92": {
          "model_module": "@jupyter-widgets/controls",
          "model_name": "DescriptionStyleModel",
          "model_module_version": "1.5.0",
          "state": {
            "_model_module": "@jupyter-widgets/controls",
            "_model_module_version": "1.5.0",
            "_model_name": "DescriptionStyleModel",
            "_view_count": null,
            "_view_module": "@jupyter-widgets/base",
            "_view_module_version": "1.2.0",
            "_view_name": "StyleView",
            "description_width": ""
          }
        }
      }
    }
  },
  "cells": [
    {
      "cell_type": "markdown",
      "metadata": {
        "id": "view-in-github",
        "colab_type": "text"
      },
      "source": [
        "<a href=\"https://colab.research.google.com/github/danialebrat/Stock_Prediction_khodro_group/blob/main/Codes/Stock_preprocess_kh.ipynb\" target=\"_parent\"><img src=\"https://colab.research.google.com/assets/colab-badge.svg\" alt=\"Open In Colab\"/></a>"
      ]
    },
    {
      "cell_type": "code",
      "execution_count": null,
      "metadata": {
        "id": "DrZ_vXlX4R5c"
      },
      "outputs": [],
      "source": [
        "import numpy as np\n",
        "import pandas as pd\n",
        "import matplotlib.pyplot as plt\n",
        "from sklearn.preprocessing import MinMaxScaler, minmax_scale\n",
        "from tqdm.notebook import tqdm\n",
        "import os"
      ]
    },
    {
      "cell_type": "code",
      "source": [
        "# Path of the Dataset\n",
        "data_folder = \"/content/drive/MyDrive/Colab Notebooks/Stock Prediction_khodro/Dataset/\""
      ],
      "metadata": {
        "id": "npTSaiRx4tFR"
      },
      "execution_count": null,
      "outputs": []
    },
    {
      "cell_type": "code",
      "source": [
        "# Storing preprocessed data\n",
        "storing_path = \"\"\n",
        "\n",
        "DATA = []\n",
        "\n",
        "# number of Segments\n",
        "SEG_LEN = 11 #day\n",
        "\n",
        "# Hop_Size\n",
        "HOP_LENGTH = 3 #day\n",
        "\n",
        "\n",
        "plot_size = 8"
      ],
      "metadata": {
        "id": "RTNBRVXd7AWL"
      },
      "execution_count": null,
      "outputs": []
    },
    {
      "cell_type": "code",
      "source": [
        "def read_csv(file): \n",
        " \n",
        "    df = pd.read_csv(file)\n",
        "    return df"
      ],
      "metadata": {
        "id": "X1DfHodYcQaK"
      },
      "execution_count": null,
      "outputs": []
    },
    {
      "cell_type": "code",
      "source": [
        "def number_of_segments(df):  \n",
        "    \n",
        "    number_of_records = len(df[\"<LOW>\"].values)\n",
        "    \n",
        "    # Number of segments (each equal to SEG_LEN)\n",
        "    num_segments = int((number_of_records - SEG_LEN)/HOP_LENGTH) + 1   \n",
        "\n",
        "    return num_segments"
      ],
      "metadata": {
        "id": "6bgZsPmIm0Ta"
      },
      "execution_count": null,
      "outputs": []
    },
    {
      "cell_type": "code",
      "source": [
        "def segmentize(df, seg):\n",
        "    \n",
        "    # Locating each segment\n",
        "    \n",
        "    start = HOP_LENGTH * seg\n",
        "    end = start + SEG_LEN\n",
        "    \n",
        "    target = df.iloc[start:end]\n",
        "    \n",
        "    return target\n",
        "    "
      ],
      "metadata": {
        "id": "mnzWTTL-m2OI"
      },
      "execution_count": null,
      "outputs": []
    },
    {
      "cell_type": "code",
      "source": [
        "def store_seg(x, y, z):\n",
        "    \n",
        "    path = []\n",
        "    \n",
        "    for i, j, k in zip(x, y, z):\n",
        "        \n",
        "        path.append([i,j,k])\n",
        "    \n",
        "    arr = np.array(path)\n",
        "    \n",
        "    scaler = MinMaxScaler()\n",
        "    arr = scaler.fit_transform(arr) \n",
        "    \n",
        "    DATA.append(arr.tolist())\n",
        "    \n",
        "    np.save(\"DATA_khodro\", np.array(DATA))"
      ],
      "metadata": {
        "id": "GeUMPQxPm4Iw"
      },
      "execution_count": null,
      "outputs": []
    },
    {
      "cell_type": "code",
      "source": [
        "def preprocess():\n",
        "    \n",
        "\n",
        "    for i, (root, dirs, files) in enumerate(os.walk(data_folder)):\n",
        "\n",
        "        # process each potential match\n",
        "        for f in tqdm(files, desc=\"Loading…\"):\n",
        "\n",
        "            print(\"****  {}  ****\".format(f))\n",
        "            file_path = os.path.join(data_folder, f)\n",
        "\n",
        "            # reading file\n",
        "            df_stock = read_csv(str(file_path))\n",
        "\n",
        "            num_segments = number_of_segments(df_stock)\n",
        "\n",
        "            # For each Segment\n",
        "            for seg in range(0, num_segments):\n",
        "              \n",
        "              # Segmentizing\n",
        "              df_seg = segmentize(df_stock, seg)\n",
        "\n",
        "              low_price = df_seg[\"<LOW>\"].values\n",
        "              high_price = df_seg[\"<HIGH>\"].values\n",
        "              close_price = df_seg[\"<CLOSE>\"].values\n",
        "\n",
        "              # Storing each segment                      \n",
        "              store_seg(low_price, high_price, close_price)\n",
        "\n",
        "    print(np.array(DATA).shape)\n"
      ],
      "metadata": {
        "id": "5jak4y3tm9xI"
      },
      "execution_count": null,
      "outputs": []
    },
    {
      "cell_type": "code",
      "source": [
        "if __name__ == \"__main__\":\n",
        "    \n",
        "    preprocess()"
      ],
      "metadata": {
        "colab": {
          "base_uri": "https://localhost:8080/",
          "height": 379,
          "referenced_widgets": [
            "d4509e9fd77248eaa157001a7fb907ae",
            "f056bf7b42254217ab3e0120fbb738e8",
            "a4dd5119baf74d1585ac481069ad6fd1",
            "b64a208ca77d46758411233df09b9344",
            "36aab84b03814995b81e461f0610fa51",
            "17baf726c3a642c7a6d8bd3d7af9a49a",
            "2b31a1761a6d4440a5e26b8a5327c005",
            "97a9b906d5974a15bc3e3402f31de961",
            "0eb928b28ad8461b94bc74c50bdbfd87",
            "55c8155b2f9a4675afb7659880f902dc",
            "5b2b76603efd4389a24dc6f9e18d6c92"
          ]
        },
        "id": "r3WA1BoFm_eI",
        "outputId": "d9d81b3d-93c9-4ae9-899f-23c984ea9082"
      },
      "execution_count": null,
      "outputs": [
        {
          "output_type": "display_data",
          "data": {
            "text/plain": [
              "Loading…:   0%|          | 0/18 [00:00<?, ?it/s]"
            ],
            "application/vnd.jupyter.widget-view+json": {
              "version_major": 2,
              "version_minor": 0,
              "model_id": "d4509e9fd77248eaa157001a7fb907ae"
            }
          },
          "metadata": {}
        },
        {
          "output_type": "stream",
          "name": "stdout",
          "text": [
            "****  Bahman.Group.csv  ****\n",
            "****  E..Kh..Shargh.csv  ****\n",
            "****  I..T..Foundry.csv  ****\n",
            "****  Indamin_.csv  ****\n",
            "****  Iran.Casting.csv  ****\n",
            "****  Iran.Kh..A..M..csv  ****\n",
            "****  Iran.Kh..Inv..csv  ****\n",
            "****  Iran.Radiator.csv  ****\n",
            "****  Mashad.Wheel.csv  ****\n",
            "****  S_Bahman.Dizel.Co.csv  ****\n",
            "****  S_IranKhodroDiesel.csv  ****\n",
            "****  S_Kerman.Khodro.E..csv  ****\n",
            "****  S_Pars.Khodro.csv  ****\n",
            "****  S_Saipa.Diesel.csv  ****\n",
            "****  VAMCO.csv  ****\n",
            "****  Zamyad.csv  ****\n",
            "****  Iran.Khodro.csv  ****\n",
            "****  S_Saipa.csv  ****\n",
            "(20571, 11, 3)\n"
          ]
        }
      ]
    },
    {
      "cell_type": "code",
      "source": [
        ""
      ],
      "metadata": {
        "id": "4PP5tlpdnERA"
      },
      "execution_count": null,
      "outputs": []
    }
  ]
}