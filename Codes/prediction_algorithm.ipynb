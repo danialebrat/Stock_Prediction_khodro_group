{
  "nbformat": 4,
  "nbformat_minor": 0,
  "metadata": {
    "colab": {
      "name": "prediction_algorithm.ipynb",
      "provenance": [],
      "collapsed_sections": [],
      "mount_file_id": "1cSoOU912SvewzQ8rvNhuHc8h34zi5lwt",
      "authorship_tag": "ABX9TyMbRNffUeF042TfEUEQlkXX",
      "include_colab_link": true
    },
    "kernelspec": {
      "name": "python3",
      "display_name": "Python 3"
    },
    "language_info": {
      "name": "python"
    }
  },
  "cells": [
    {
      "cell_type": "markdown",
      "metadata": {
        "id": "view-in-github",
        "colab_type": "text"
      },
      "source": [
        "<a href=\"https://colab.research.google.com/github/danialebrat/Stock_Prediction_khodro_group/blob/main/Codes/prediction_algorithm.ipynb\" target=\"_parent\"><img src=\"https://colab.research.google.com/assets/colab-badge.svg\" alt=\"Open In Colab\"/></a>"
      ]
    },
    {
      "cell_type": "code",
      "source": [
        "import numpy as np\n",
        "import pandas as pd\n",
        "import matplotlib.pyplot as plt\n",
        "from tensorflow.keras.models import load_model\n",
        "from sklearn.preprocessing import MinMaxScaler, minmax_scale"
      ],
      "metadata": {
        "id": "S5uVuSQ46aU-"
      },
      "execution_count": null,
      "outputs": []
    },
    {
      "cell_type": "code",
      "source": [
        "# loading the model\n",
        "model = load_model(\"/content/drive/MyDrive/Stock Prediction/Stock_model.h5\")"
      ],
      "metadata": {
        "id": "II_E8Zo-6tIl"
      },
      "execution_count": null,
      "outputs": []
    },
    {
      "cell_type": "code",
      "source": [
        "def printTransactions(m, k, d, name, owned, prices):\n",
        "    \n",
        "    \"\"\"\n",
        "\n",
        "    INPUT: \n",
        "\n",
        "    m - the amount of money you could spend that day.\n",
        "    k - the number of different stocks available for buying or selling.\n",
        "    d - the number of remaining days for trading stocks.\n",
        "\n",
        "    k lines follow, each in the following format: name owned prices\n",
        "    name - the name of the stock (a string).\n",
        "    owned - the number of shares you own of that stock.\n",
        "    prices - 5 space separated numbers representing the stock's price for the last 5 days. last number is the current stock price.\n",
        "\n",
        "    OUTPUT:\n",
        "    Output N - number of transactions, 0 if not any\n",
        "    output N lines containing the name of the stock, BUY or SELL, and the number of shares to buy or sell.\n",
        "    \"\"\"\n",
        "    # list of Potential buy or sell\n",
        "    potential_sale = []\n",
        "    potential_buy = []\n",
        "\n",
        "    # Knapstack_input :(name of stock, current price, balance = future - current)\n",
        "    capacity = m\n",
        "    knapstack_Input = []\n",
        "\n",
        "    \n",
        "\n",
        "    for i in range(k):\n",
        "\n",
        "        # pridicting the future price of each stock\n",
        "        future_price = predict_future(prices[i])\n",
        "\n",
        "        # ballance is > 0 if the price increases next day\n",
        "        ballance = future_price - prices[i][-1]\n",
        "\n",
        "        # if the price is going to decrease (ballance < 0)\n",
        "        if ballance < 0:\n",
        "          if owned[i] > 0:\n",
        "            # Sell each stock that is going to fall down the next day\n",
        "            sale = ('{} SELL {}'.format(name[i], owned[i]))\n",
        "            potential_sale.append(sale)\n",
        "\n",
        "            \n",
        "        else:\n",
        "          # if the price is going to INCREASE (ballance > 0)\n",
        "          # add it to knapstack_Input\n",
        "          # (name, current price, balance)\n",
        "\n",
        "          # unbounded knapstack is for int values\n",
        "          # therefore, we multiply the prices by 100 to get int values\n",
        "          row = (name[i], int(prices[i][-1]*100), int(round(ballance, 2)*100))\n",
        "          knapstack_Input.append(row)\n",
        "\n",
        "    # solving the unbounded_knapsack\n",
        "    buy = unbounded_knapsack(knapstack_Input, int(capacity*100))\n",
        "    potential_buy = buy_list(buy)\n",
        "\n",
        "    # print the output using potential_buy and potential_sale\n",
        "    print_output(potential_buy, potential_sale)\n",
        "\n",
        "   "
      ],
      "metadata": {
        "id": "Z9KjDzHf3DeW"
      },
      "execution_count": null,
      "outputs": []
    },
    {
      "cell_type": "code",
      "source": [
        "def buy_list(buy):\n",
        "  \"\"\"\n",
        "  creates potential buy list\n",
        "  which stock to buy? how many?\n",
        "  \"\"\"\n",
        "\n",
        "  potential_buy = []\n",
        "  unique_items = np.unique(np.array(buy))\n",
        "  for i in unique_items:\n",
        "    count = np.count_nonzero(np.array(buy) == i)\n",
        "    b = ('{} BUY {}'.format(i, count))\n",
        "    potential_buy.append(b)\n",
        "  \n",
        "  return potential_buy \n",
        "\n"
      ],
      "metadata": {
        "id": "2Dh637FoIyXu"
      },
      "execution_count": null,
      "outputs": []
    },
    {
      "cell_type": "code",
      "source": [
        "def predict_future(prices):\n",
        "    \n",
        "\n",
        "    price_list = []\n",
        "\n",
        "    original_data = np.array(prices)\n",
        "\n",
        "    # create the input for the model (1,5) --> (5,1)\n",
        "    segment = original_data.reshape((-1, 1))\n",
        "    \n",
        "    # scale the segment in (0, 1)\n",
        "    scaler = MinMaxScaler()\n",
        "    arr = scaler.fit_transform(segment)\n",
        "\n",
        "    # the model input take (N, 5, 1) but the segment is (5,1)\n",
        "    # Therefore, we add the segment to a list to have (1, 5, 1)\n",
        "    price_list.append(arr)\n",
        "\n",
        "    # predicting the future price\n",
        "    future_price = model.predict(price_list)\n",
        "\n",
        "    # reverse the scale to the original price\n",
        "    predicted_price = scaler.inverse_transform(future_price[0])\n",
        "\n",
        "    return predicted_price[0][0]"
      ],
      "metadata": {
        "id": "aOyEM2Eg5jHM"
      },
      "execution_count": null,
      "outputs": []
    },
    {
      "cell_type": "code",
      "source": [
        "def print_output(potential_buy, potential_sale):\n",
        "\n",
        "  # if potential_buy and potential_sale are empty\n",
        "  # we don't have any transaction\n",
        "  if len(potential_buy)+len(potential_sale) == 0:\n",
        "    print(0)\n",
        "\n",
        "  else:\n",
        "    # if not, print each list that is not empty\n",
        "    number_of_transaction = len(potential_buy)+len(potential_sale)\n",
        "    print(number_of_transaction)\n",
        "\n",
        "    if len(potential_buy) > 0:\n",
        "      for i in potential_buy:\n",
        "        print(i)\n",
        "    \n",
        "    if len(potential_sale) > 0:\n",
        "      for i in potential_sale:\n",
        "        print(i)\n"
      ],
      "metadata": {
        "id": "39WxlaiY2NSP"
      },
      "execution_count": null,
      "outputs": []
    },
    {
      "cell_type": "code",
      "source": [
        "def unbounded_knapsack(knapstack_Input, capacity):\n",
        "\n",
        "    \"\"\"\n",
        "    unbounded_knapsack solution using dynamic programming\n",
        "    \"\"\"\n",
        "\n",
        "    stock = []\n",
        "    weights = [] \n",
        "    profits = []\n",
        "\n",
        "    #(name, current price, balance)\n",
        "    for name, weight, profit in knapstack_Input:\n",
        "      weights.append(weight)\n",
        "      profits.append(profit)\n",
        "      stock.append(name)\n",
        "\n",
        "    \n",
        "    n = len(profits)\n",
        "    table = [[0] * (capacity + 1) for i in range(n)]\n",
        "\n",
        "    # When capacity is 0, none of the item can be selected\n",
        "    for i in range(n):\n",
        "        table[i][0] = 0\n",
        "\n",
        "    # When only 1 item is considered, get the profits using that item for every capapcity 'c'\n",
        "    for c in range(capacity + 1):\n",
        "        table[0][c] = (c // weights[0]) * profits[0]\n",
        "\n",
        "    # For each item, check for every possible capacities\n",
        "    for i in range(1, n):\n",
        "        for c in range(1, capacity + 1):\n",
        "            if (weights[i] <= c):\n",
        "                table[i][c] = max(table[i - 1][c], profits[i] + table[i][c - weights[i]])\n",
        "            else:\n",
        "                table[i][c] = table[i - 1][c]\n",
        "\n",
        "    # we find the maximum profit, now we need to find the items\n",
        "    buy = pick_selected_items(table, weights, profits, stock)\n",
        "\n",
        "    return buy"
      ],
      "metadata": {
        "id": "irhZsiSomjfa"
      },
      "execution_count": null,
      "outputs": []
    },
    {
      "cell_type": "code",
      "source": [
        "def pick_selected_items(table, weights, profits, name):\n",
        "    \n",
        "    \"\"\"\n",
        "    finding the items for maximum profit\n",
        "    \"\"\"\n",
        "\n",
        "    buy = []\n",
        "\n",
        "    i, c = len(table)-1, len(table[0])-1\n",
        "    total_profit = table[i][c]\n",
        "    while (i-1 >= 0 and table[i][c] >= 0):\n",
        "        if (table[i][c] != table[i - 1][c]):\n",
        "            buy.append(name[i])\n",
        "            c -= weights[i]\n",
        "            total_profit -= profits[i]\n",
        "        else:\n",
        "            i -= 1\n",
        "\n",
        "    while (total_profit > 0):\n",
        "        buy.append(name[0])\n",
        "        total_profit -= profits[0]\n",
        "\n",
        "    return buy"
      ],
      "metadata": {
        "id": "hN-59xOnmmrc"
      },
      "execution_count": null,
      "outputs": []
    },
    {
      "cell_type": "code",
      "source": [
        "def readInputAndRun():\n",
        "    # reading input\n",
        "    line = input().split()\n",
        "\n",
        "    # m = 100, k = 10, d = 20\n",
        "    m, k, d = float(line[0]), int(line[1]), int(line[2])\n",
        "    name = []\n",
        "    owned = []\n",
        "    prices = []\n",
        "\n",
        "    for i in range(k):\n",
        "        line = input().split()\n",
        "        # [0] is the name of the stock\n",
        "        name.append(line[0])\n",
        "        # [1] is the number of shares we owned from the stock\n",
        "        owned.append(int(line[1]))\n",
        "\n",
        "        # [2:] prices for the 5 days\n",
        "        prices.append(list(map(float, line[2:])))    \n",
        "\n",
        "    printTransactions(m, k, d, name, owned, prices)"
      ],
      "metadata": {
        "id": "iGT5iVLEhzgK"
      },
      "execution_count": null,
      "outputs": []
    },
    {
      "cell_type": "code",
      "source": [
        "if __name__ == \"__main__\":\n",
        "\n",
        "\n",
        "  readInputAndRun()\n",
        "\n",
        "#Input\n",
        "\n",
        "# 100 10 20\n",
        "# CAL 4 121.83 122.26 123.94 122.11 120.58\n",
        "# UCB 3 52.34 50.89 47.62 51.16 52.4\n",
        "# RIT 1 100.21 99.33 102.87 110.63 110.72\n",
        "# UCLA 1 12.5 27.22 9.32 16.07 3.86\n",
        "# USC 4 249.58 244.24 242.56 245.13 245.35\n",
        "# UFL 2 20.21 19.77 21.34 20.21 21.17\n",
        "# UMAD 2 109.39 120.49 131.35 127.97 121.38\n",
        "# RICE 2 126.3 128 129.08 129.28 124.44\n",
        "# UMD 3 102.96 103.62 98.22 96.6 99.1\n",
        "# UCSC 2 213.77 193.51 178.53 180.08 208.29"
      ],
      "metadata": {
        "colab": {
          "base_uri": "https://localhost:8080/"
        },
        "id": "sySLRaDGdMv9",
        "outputId": "975343c7-a2ee-4861-f9df-095d5bf47f13"
      },
      "execution_count": null,
      "outputs": [
        {
          "output_type": "stream",
          "name": "stdout",
          "text": [
            "100 10 20\n",
            "CAL 4 121.83 122.26 123.94 122.11 120.58\n",
            "UCB 3 52.34 50.89 47.62 51.16 52.4\n",
            "IT 1 100.21 99.33 102.87 110.63 110.72\n",
            "UCLA 1 12.5 27.22 9.32 16.07 3.86\n",
            "USC 4 249.58 244.24 242.56 245.13 245.35\n",
            "FL 2 20.21 19.77 21.34 20.21 21.17\n",
            "UMAD 2 109.39 120.49 131.35 127.97 121.38\n",
            "RICE 2 126.3 128 129.08 129.28 124.44\n",
            "UMD 3 102.96 103.62 98.22 96.6 99.1\n",
            "UCSC 2 213.77 193.51 178.53 180.08 208.29\n",
            "6\n",
            "UCLA BUY 25\n",
            "UCB SELL 3\n",
            "IT SELL 1\n",
            "USC SELL 4\n",
            "FL SELL 2\n",
            "UCSC SELL 2\n"
          ]
        }
      ]
    },
    {
      "cell_type": "code",
      "source": [
        ""
      ],
      "metadata": {
        "id": "7AiYGldRdzfB"
      },
      "execution_count": null,
      "outputs": []
    }
  ]
}